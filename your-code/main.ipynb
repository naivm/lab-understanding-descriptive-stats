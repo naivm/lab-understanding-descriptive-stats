{
 "cells": [
  {
   "cell_type": "markdown",
   "metadata": {},
   "source": [
    "# Understanding Descriptive Statistics\n",
    "\n",
    "Import the necessary libraries here:"
   ]
  },
  {
   "cell_type": "code",
   "execution_count": 3,
   "metadata": {},
   "outputs": [],
   "source": [
    "# Libraries\n",
    "import numpy as np\n",
    "import pandas as pd\n",
    "import matplotlib.pyplot as plt\n",
    "import seaborn as sns\n",
    "import random "
   ]
  },
  {
   "cell_type": "markdown",
   "metadata": {},
   "source": [
    "## Challenge 1\n",
    "#### 1.- Define a function that simulates rolling a dice 10 times. Save the information in a dataframe.\n",
    "**Hint**: you can use the *choices* function from module *random* to help you with the simulation."
   ]
  },
  {
   "cell_type": "code",
   "execution_count": 136,
   "metadata": {},
   "outputs": [
    {
     "data": {
      "text/plain": [
       "[5, 6, 2, 1, 4, 5, 2, 2, 3, 6]"
      ]
     },
     "execution_count": 136,
     "metadata": {},
     "output_type": "execute_result"
    }
   ],
   "source": [
    "# your code here\n",
    "\n",
    "  \n",
    "dice = [1, 2, 3, 4, 5, 6]  \n",
    "  \n",
    "dice_rolls = [random.choice(dice) for x in range(10)]\n",
    "dice_rolls"
   ]
  },
  {
   "cell_type": "code",
   "execution_count": 56,
   "metadata": {},
   "outputs": [
    {
     "data": {
      "text/html": [
       "<div>\n",
       "<style scoped>\n",
       "    .dataframe tbody tr th:only-of-type {\n",
       "        vertical-align: middle;\n",
       "    }\n",
       "\n",
       "    .dataframe tbody tr th {\n",
       "        vertical-align: top;\n",
       "    }\n",
       "\n",
       "    .dataframe thead th {\n",
       "        text-align: right;\n",
       "    }\n",
       "</style>\n",
       "<table border=\"1\" class=\"dataframe\">\n",
       "  <thead>\n",
       "    <tr style=\"text-align: right;\">\n",
       "      <th></th>\n",
       "      <th>roll</th>\n",
       "    </tr>\n",
       "  </thead>\n",
       "  <tbody>\n",
       "    <tr>\n",
       "      <th>0</th>\n",
       "      <td>4</td>\n",
       "    </tr>\n",
       "    <tr>\n",
       "      <th>1</th>\n",
       "      <td>3</td>\n",
       "    </tr>\n",
       "    <tr>\n",
       "      <th>2</th>\n",
       "      <td>2</td>\n",
       "    </tr>\n",
       "    <tr>\n",
       "      <th>3</th>\n",
       "      <td>3</td>\n",
       "    </tr>\n",
       "    <tr>\n",
       "      <th>4</th>\n",
       "      <td>3</td>\n",
       "    </tr>\n",
       "    <tr>\n",
       "      <th>5</th>\n",
       "      <td>6</td>\n",
       "    </tr>\n",
       "    <tr>\n",
       "      <th>6</th>\n",
       "      <td>5</td>\n",
       "    </tr>\n",
       "    <tr>\n",
       "      <th>7</th>\n",
       "      <td>3</td>\n",
       "    </tr>\n",
       "    <tr>\n",
       "      <th>8</th>\n",
       "      <td>6</td>\n",
       "    </tr>\n",
       "    <tr>\n",
       "      <th>9</th>\n",
       "      <td>5</td>\n",
       "    </tr>\n",
       "  </tbody>\n",
       "</table>\n",
       "</div>"
      ],
      "text/plain": [
       "   roll\n",
       "0     4\n",
       "1     3\n",
       "2     2\n",
       "3     3\n",
       "4     3\n",
       "5     6\n",
       "6     5\n",
       "7     3\n",
       "8     6\n",
       "9     5"
      ]
     },
     "execution_count": 56,
     "metadata": {},
     "output_type": "execute_result"
    }
   ],
   "source": [
    "    \n",
    "#dice_roll = pd.DataFrame(dice_rolls, columns = dice)\n",
    "dice_roll = pd.DataFrame(dice_rolls, columns=['roll'])\n",
    "dice_roll.head(10)\n"
   ]
  },
  {
   "cell_type": "markdown",
   "metadata": {},
   "source": [
    "#### 2.- Plot the results sorted by value."
   ]
  },
  {
   "cell_type": "code",
   "execution_count": 57,
   "metadata": {},
   "outputs": [
    {
     "data": {
      "text/plain": [
       "<seaborn.axisgrid.FacetGrid at 0x28b329b48d0>"
      ]
     },
     "execution_count": 57,
     "metadata": {},
     "output_type": "execute_result"
    },
    {
     "data": {
      "image/png": "[encoded data removed]",
      "text/plain": [
       "<Figure size 360x360 with 1 Axes>"
      ]
     },
     "metadata": {
      "needs_background": "light"
     },
     "output_type": "display_data"
    }
   ],
   "source": [
    "# your code here\n",
    "sns.catplot(x=\"roll\", kind=\"count\", data=dice_roll)"
   ]
  },
  {
   "cell_type": "markdown",
   "metadata": {},
   "source": [
    "#### 3.- Calculate the frequency distribution and plot it. What is the relation between this plot and the plot above? Describe it with words."
   ]
  },
  {
   "cell_type": "code",
   "execution_count": 58,
   "metadata": {},
   "outputs": [
    {
     "data": {
      "text/plain": [
       "<matplotlib.axes._subplots.AxesSubplot at 0x28b338e9748>"
      ]
     },
     "execution_count": 58,
     "metadata": {},
     "output_type": "execute_result"
    },
    {
     "data": {
      "image/png": "[encoded data removed]",
      "text/plain": [
       "<Figure size 432x288 with 1 Axes>"
      ]
     },
     "metadata": {
      "needs_background": "light"
     },
     "output_type": "display_data"
    }
   ],
   "source": [
    "# your code here\n",
    "\n",
    "sns.distplot(dice_roll['roll'], bins=10)"
   ]
  },
  {
   "cell_type": "code",
   "execution_count": 59,
   "metadata": {},
   "outputs": [
    {
     "data": {
      "text/plain": [
       "'\\nyour comments here\\n'"
      ]
     },
     "execution_count": 59,
     "metadata": {},
     "output_type": "execute_result"
    }
   ],
   "source": [
    "\"\"\"\n",
    "your comments here\n",
    "\"\"\""
   ]
  },
  {
   "cell_type": "markdown",
   "metadata": {},
   "source": [
    "## Challenge 2\n",
    "Now, using the dice results obtained in *challenge 1*, your are going to define some functions that will help you calculate the mean of your data in two different ways, the median and the four quartiles. \n",
    "\n",
    "#### 1.- Define a function that computes the mean by summing all the observations and dividing by the total number of observations. You are not allowed to use any methods or functions that directly calculate the mean value. "
   ]
  },
  {
   "cell_type": "code",
   "execution_count": 60,
   "metadata": {},
   "outputs": [
    {
     "data": {
      "text/plain": [
       "4.0"
      ]
     },
     "execution_count": 60,
     "metadata": {},
     "output_type": "execute_result"
    }
   ],
   "source": [
    "# your code here\n",
    "def mean(numbers):\n",
    "    return float(sum(numbers)) / max(len(numbers), 1)\n",
    "\n",
    "mean(dice_rolls)"
   ]
  },
  {
   "cell_type": "markdown",
   "metadata": {},
   "source": [
    "#### 2.- First, calculate the frequency distribution. Then, calculate the mean using the values of the frequency distribution you've just computed. You are not allowed to use any methods or functions that directly calculate the mean value. "
   ]
  },
  {
   "cell_type": "code",
   "execution_count": 62,
   "metadata": {},
   "outputs": [
    {
     "data": {
      "text/plain": [
       "{4: 1, 3: 4, 2: 1, 6: 2, 5: 2}"
      ]
     },
     "execution_count": 62,
     "metadata": {},
     "output_type": "execute_result"
    }
   ],
   "source": [
    "# your code here\n",
    "\n",
    "\n",
    "new_dict_comp = {item:dice_rolls.count(item) for item in dice_rolls}\n",
    "new_dict_comp"
   ]
  },
  {
   "cell_type": "code",
   "execution_count": 63,
   "metadata": {},
   "outputs": [
    {
     "data": {
      "text/plain": [
       "4.0"
      ]
     },
     "execution_count": 63,
     "metadata": {},
     "output_type": "execute_result"
    }
   ],
   "source": [
    "\n",
    "new_mean =sum([list(new_dict_comp.values())[x] * (list(new_dict_comp.keys())[x])for x in range(len(list(new_dict_comp.keys())))])/ sum(list(new_dict_comp.values()))\n",
    "new_mean\n",
    "    "
   ]
  },
  {
   "cell_type": "markdown",
   "metadata": {},
   "source": [
    "#### 3.- Define a function to calculate the median. You are not allowed to use any methods or functions that directly calculate the median value. \n",
    "**Hint**: you might need to define two computation cases depending on the number of observations used to calculate the median."
   ]
  },
  {
   "cell_type": "code",
   "execution_count": 65,
   "metadata": {},
   "outputs": [
    {
     "data": {
      "text/plain": [
       "4"
      ]
     },
     "execution_count": 65,
     "metadata": {},
     "output_type": "execute_result"
    }
   ],
   "source": []
  },
  {
   "cell_type": "code",
   "execution_count": 137,
   "metadata": {},
   "outputs": [
    {
     "data": {
      "text/plain": [
       "3.5"
      ]
     },
     "execution_count": 137,
     "metadata": {},
     "output_type": "execute_result"
    }
   ],
   "source": [
    "# your code here\n",
    "def median(y):\n",
    "    y.sort()\n",
    "    i = int(round(len(y)/2)-1 if len(y)%2 != 0 else len(y)/2)\n",
    "    return y[i] if len(y)%2 != 0 else (y[i]+y[i-1])/2\n",
    "    \n",
    "median(dice_rolls)\n"
   ]
  },
  {
   "cell_type": "markdown",
   "metadata": {},
   "source": [
    "#### 4.- Define a function to calculate the four quartiles. You can use the function you defined above to compute the median but you are not allowed to use any methods or functions that directly calculate the quartiles. "
   ]
  },
  {
   "cell_type": "code",
   "execution_count": 146,
   "metadata": {},
   "outputs": [
    {
     "ename": "NameError",
     "evalue": "name 'q3' is not defined",
     "output_type": "error",
     "traceback": [
      "\u001b[1;31m---------------------------------------------------------------------------\u001b[0m",
      "\u001b[1;31mNameError\u001b[0m                                 Traceback (most recent call last)",
      "\u001b[1;32m<ipython-input-146-a8e9b5a22c81>\u001b[0m in \u001b[0;36m<module>\u001b[1;34m\u001b[0m\n\u001b[0;32m      8\u001b[0m \u001b[1;33m\u001b[0m\u001b[0m\n\u001b[0;32m      9\u001b[0m \u001b[0mquartile\u001b[0m\u001b[1;33m(\u001b[0m\u001b[0mdice_rolls\u001b[0m\u001b[1;33m)\u001b[0m\u001b[1;33m\u001b[0m\u001b[1;33m\u001b[0m\u001b[0m\n\u001b[1;32m---> 10\u001b[1;33m \u001b[0mq3\u001b[0m\u001b[1;33m\u001b[0m\u001b[1;33m\u001b[0m\u001b[0m\n\u001b[0m",
      "\u001b[1;31mNameError\u001b[0m: name 'q3' is not defined"
     ]
    }
   ],
   "source": [
    "# your code here\n",
    "def quartile(y):\n",
    "    y.sort()\n",
    "    i = int(round(len(y)/2)-1 if len(y)%2 != 0 else len(y)/2)\n",
    "    q1= int(round(i/2)-1) if len(y)%2 != 0 else int((len(y)/2-1)/2)\n",
    "    q3 = (len(y)-q1-1) if len(y)%2 != 0 else int(len(y)/2 + q1)\n",
    "    return[y[q1] ,y[i]  if len(y)%2 != 0 else (y[i]+y[i-1])/2, y[q3]]\n",
    "\n",
    "quartile(dice_rolls)\n"
   ]
  },
  {
   "cell_type": "markdown",
   "metadata": {},
   "source": [
    "## Challenge 3\n",
    "Read the csv `roll_the_dice_hundred.csv` from the `data` folder.\n",
    "#### 1.- Sort the values and plot them. What do you see?"
   ]
  },
  {
   "cell_type": "code",
   "execution_count": 163,
   "metadata": {},
   "outputs": [
    {
     "data": {
      "text/plain": [
       "[<matplotlib.lines.Line2D at 0x28b33c88908>]"
      ]
     },
     "execution_count": 163,
     "metadata": {},
     "output_type": "execute_result"
    },
    {
     "data": {
      "image/png": "[encoded data removed]",
      "text/plain": [
       "<Figure size 432x288 with 1 Axes>"
      ]
     },
     "metadata": {
      "needs_background": "light"
     },
     "output_type": "display_data"
    }
   ],
   "source": [
    "# your code here\n",
    "\n",
    "hundred =pd.read_csv(r\"C:\\Users\\Migue\\Documents\\GitHub\\lab-understanding-descriptive-stats\\data\\roll_the_dice_hundred.csv\")\n",
    "hundred=hundred.sort_values(\"roll\")\n",
    "plt.plot(hundred[\"value\"])"
   ]
  },
  {
   "cell_type": "code",
   "execution_count": null,
   "metadata": {},
   "outputs": [],
   "source": [
    "\"\"\"\n",
    "your comments here\n",
    "\"\"\""
   ]
  },
  {
   "cell_type": "markdown",
   "metadata": {},
   "source": [
    "#### 2.- Using the functions you defined in *challenge 2*, calculate the mean value of the hundred dice rolls."
   ]
  },
  {
   "cell_type": "code",
   "execution_count": 164,
   "metadata": {},
   "outputs": [
    {
     "data": {
      "text/plain": [
       "3.74"
      ]
     },
     "execution_count": 164,
     "metadata": {},
     "output_type": "execute_result"
    }
   ],
   "source": [
    "# your code here\n",
    "\n",
    "values = list(hundred[\"value\"])\n",
    "\n",
    "mean(values)"
   ]
  },
  {
   "cell_type": "markdown",
   "metadata": {},
   "source": [
    "#### 3.- Now, calculate the frequency distribution.\n"
   ]
  },
  {
   "cell_type": "code",
   "execution_count": 172,
   "metadata": {},
   "outputs": [
    {
     "data": {
      "text/plain": [
       "{1: 12, 2: 17, 6: 23, 5: 12, 4: 22, 3: 14}"
      ]
     },
     "execution_count": 172,
     "metadata": {},
     "output_type": "execute_result"
    }
   ],
   "source": [
    "# your code here\n",
    "def freq_dist(x):\n",
    "    new_dict_comp = {item:x.count(item) for item in x}\n",
    "    return new_dict_comp \n",
    "histo = freq_dist(values)\n",
    "histo"
   ]
  },
  {
   "cell_type": "markdown",
   "metadata": {},
   "source": [
    "#### 4.- Plot the histogram. What do you see (shape, values...) ? How can you connect the mean value to the histogram? "
   ]
  },
  {
   "cell_type": "code",
   "execution_count": 175,
   "metadata": {},
   "outputs": [
    {
     "data": {
      "text/plain": [
       "<BarContainer object of 6 artists>"
      ]
     },
     "execution_count": 175,
     "metadata": {},
     "output_type": "execute_result"
    },
    {
     "data": {
      "image/png": "[encoded data removed]",
      "text/plain": [
       "<Figure size 432x288 with 1 Axes>"
      ]
     },
     "metadata": {
      "needs_background": "light"
     },
     "output_type": "display_data"
    }
   ],
   "source": [
    "# your code here\n",
    "\n",
    "plt.bar(histo.keys(), histo.values() )"
   ]
  },
  {
   "cell_type": "code",
   "execution_count": null,
   "metadata": {},
   "outputs": [],
   "source": [
    "\"\"\"\n",
    "your comments here: the average is litle above of what we expect (3.5) due to large representation of rolls woith value 6\n",
    "\"\"\""
   ]
  },
  {
   "cell_type": "markdown",
   "metadata": {},
   "source": [
    "#### 5.- Read the `roll_the_dice_thousand.csv` from the `data` folder. Plot the frequency distribution as you did before. Has anything changed? Why do you think it changed?"
   ]
  },
  {
   "cell_type": "code",
   "execution_count": 176,
   "metadata": {},
   "outputs": [
    {
     "data": {
      "text/plain": [
       "<BarContainer object of 6 artists>"
      ]
     },
     "execution_count": 176,
     "metadata": {},
     "output_type": "execute_result"
    },
    {
     "data": {
      "image/png": "[encoded data removed]",
      "text/plain": [
       "<Figure size 432x288 with 1 Axes>"
      ]
     },
     "metadata": {
      "needs_background": "light"
     },
     "output_type": "display_data"
    }
   ],
   "source": [
    "# your code here\n",
    "hundred =pd.read_csv(r\"C:\\Users\\Migue\\Documents\\GitHub\\lab-understanding-descriptive-stats\\data\\roll_the_dice_thousand.csv\")\n",
    "values = list(hundred[\"value\"])\n",
    "def freq_dist(x):\n",
    "    new_dict_comp = {item:x.count(item) for item in x}\n",
    "    return new_dict_comp \n",
    "histo = freq_dist(values)\n",
    "plt.bar(histo.keys(), histo.values() )"
   ]
  },
  {
   "cell_type": "code",
   "execution_count": null,
   "metadata": {},
   "outputs": [],
   "source": [
    "\"\"\"\n",
    "your comments here: here the bars look more even that is to be expected from a random dice rolls \n",
    "as the number of rolls increase the porpotion of outlyers(streaks) gets lower\n",
    "\"\"\""
   ]
  },
  {
   "cell_type": "markdown",
   "metadata": {},
   "source": [
    "## Challenge 4\n",
    "In the `data` folder of this repository you will find three different files with the prefix `ages_population`. These files contain information about a poll answered by a thousand people regarding their age. Each file corresponds to the poll answers in different neighbourhoods of Barcelona.\n",
    "\n",
    "#### 1.- Read the file `ages_population.csv`. Calculate the frequency distribution and plot it as we did during the lesson. Try to guess the range in which the mean and the standard deviation will be by looking at the plot. "
   ]
  },
  {
   "cell_type": "code",
   "execution_count": 185,
   "metadata": {},
   "outputs": [
    {
     "data": {
      "text/plain": [
       "(array([ 2.,  2.,  0.,  0.,  0.,  1.,  0.,  2.,  0.,  2.,  0.,  1.,  5.,\n",
       "         0.,  2.,  0.,  3.,  0.,  3.,  0., 11.,  0.,  6.,  0., 10.,  8.,\n",
       "         0.,  8.,  0., 10.,  0.,  7.,  0., 11.,  0., 13.,  0., 14., 16.,\n",
       "         0., 17.,  0., 18.,  0., 19.,  0., 23.,  0., 25.,  0., 20., 26.,\n",
       "         0., 34.,  0., 24.,  0., 30.,  0., 22.,  0., 29., 33.,  0., 31.,\n",
       "         0., 30.,  0., 30.,  0., 45.,  0., 27.,  0., 36., 32.,  0., 32.,\n",
       "         0., 23.,  0., 29.,  0., 23.,  0., 17.,  0., 19., 19.,  0., 16.,\n",
       "         0.,  9.,  0., 14.,  0., 12.,  0., 13.,  0., 13., 15.,  0.,  7.,\n",
       "         0.,  7.,  0.,  8.,  0.,  4.,  0.,  2.,  4.,  0.,  7.,  0.,  2.,\n",
       "         0.,  2.,  0.,  3.,  0.,  4.,  0.,  3.,  1.,  0.,  1.,  0.,  1.,\n",
       "         0.,  0.,  0.,  1.,  0.,  0.,  0.,  0.,  0.,  0.,  0.,  0.,  0.,\n",
       "         0.,  0.,  0.,  0.,  0.,  0.,  1.]),\n",
       " array([ 1.  ,  1.54,  2.08,  2.62,  3.16,  3.7 ,  4.24,  4.78,  5.32,\n",
       "         5.86,  6.4 ,  6.94,  7.48,  8.02,  8.56,  9.1 ,  9.64, 10.18,\n",
       "        10.72, 11.26, 11.8 , 12.34, 12.88, 13.42, 13.96, 14.5 , 15.04,\n",
       "        15.58, 16.12, 16.66, 17.2 , 17.74, 18.28, 18.82, 19.36, 19.9 ,\n",
       "        20.44, 20.98, 21.52, 22.06, 22.6 , 23.14, 23.68, 24.22, 24.76,\n",
       "        25.3 , 25.84, 26.38, 26.92, 27.46, 28.  , 28.54, 29.08, 29.62,\n",
       "        30.16, 30.7 , 31.24, 31.78, 32.32, 32.86, 33.4 , 33.94, 34.48,\n",
       "        35.02, 35.56, 36.1 , 36.64, 37.18, 37.72, 38.26, 38.8 , 39.34,\n",
       "        39.88, 40.42, 40.96, 41.5 , 42.04, 42.58, 43.12, 43.66, 44.2 ,\n",
       "        44.74, 45.28, 45.82, 46.36, 46.9 , 47.44, 47.98, 48.52, 49.06,\n",
       "        49.6 , 50.14, 50.68, 51.22, 51.76, 52.3 , 52.84, 53.38, 53.92,\n",
       "        54.46, 55.  , 55.54, 56.08, 56.62, 57.16, 57.7 , 58.24, 58.78,\n",
       "        59.32, 59.86, 60.4 , 60.94, 61.48, 62.02, 62.56, 63.1 , 63.64,\n",
       "        64.18, 64.72, 65.26, 65.8 , 66.34, 66.88, 67.42, 67.96, 68.5 ,\n",
       "        69.04, 69.58, 70.12, 70.66, 71.2 , 71.74, 72.28, 72.82, 73.36,\n",
       "        73.9 , 74.44, 74.98, 75.52, 76.06, 76.6 , 77.14, 77.68, 78.22,\n",
       "        78.76, 79.3 , 79.84, 80.38, 80.92, 81.46, 82.  ]),\n",
       " <a list of 150 Patch objects>)"
      ]
     },
     "execution_count": 185,
     "metadata": {},
     "output_type": "execute_result"
    },
    {
     "data": {
      "image/png": "[encoded data removed]",
      "text/plain": [
       "<Figure size 432x288 with 1 Axes>"
      ]
     },
     "metadata": {
      "needs_background": "light"
     },
     "output_type": "display_data"
    }
   ],
   "source": [
    "# your code here\n",
    "\n",
    "ages =pd.read_csv(r\"C:\\Users\\Migue\\Documents\\GitHub\\lab-understanding-descriptive-stats\\data\\ages_population.csv\")\n",
    "\n",
    "plt.hist(ages[\"observation\"], 150)\n",
    "\"the mean will be between 35-40 and the standard deviation will be near 5-10\""
   ]
  },
  {
   "cell_type": "markdown",
   "metadata": {},
   "source": [
    "#### 2.- Calculate the exact mean and standard deviation and compare them with your guesses. Do they fall inside the ranges you guessed?"
   ]
  },
  {
   "cell_type": "code",
   "execution_count": 187,
   "metadata": {},
   "outputs": [
    {
     "name": "stdout",
     "output_type": "stream",
     "text": [
      "12.816499625976762 36.56\n"
     ]
    }
   ],
   "source": [
    "# your code here\n",
    "\n",
    "print(ages[\"observation\"].std() , ages[\"observation\"].mean())"
   ]
  },
  {
   "cell_type": "code",
   "execution_count": null,
   "metadata": {},
   "outputs": [],
   "source": [
    "\"\"\"\n",
    "your comments here: Missed the std calcualtions the histogram does indead look large and short\n",
    "\"\"\""
   ]
  },
  {
   "cell_type": "markdown",
   "metadata": {},
   "source": [
    "#### 3.- Now read the file `ages_population2.csv` . Calculate the frequency distribution and plot it."
   ]
  },
  {
   "cell_type": "code",
   "execution_count": 192,
   "metadata": {},
   "outputs": [
    {
     "data": {
      "text/plain": [
       "(array([  3.,   0.,  13.,   0.,   0.,  17.,   0.,   0.,  35.,   0.,   0.,\n",
       "         41.,   0.,   0.,  78.,   0.,   0.,  98.,   0.,   0., 120.,   0.,\n",
       "          0., 125.,   0.,   0., 139.,   0.,   0., 115.,   0.,   0.,  90.,\n",
       "          0.,   0.,  61.,   0.,   0.,  31.,   0.,   0.,  22.,   0.,   0.,\n",
       "          7.,   0.,   0.,   3.,   0.,   2.]),\n",
       " array([19.  , 19.34, 19.68, 20.02, 20.36, 20.7 , 21.04, 21.38, 21.72,\n",
       "        22.06, 22.4 , 22.74, 23.08, 23.42, 23.76, 24.1 , 24.44, 24.78,\n",
       "        25.12, 25.46, 25.8 , 26.14, 26.48, 26.82, 27.16, 27.5 , 27.84,\n",
       "        28.18, 28.52, 28.86, 29.2 , 29.54, 29.88, 30.22, 30.56, 30.9 ,\n",
       "        31.24, 31.58, 31.92, 32.26, 32.6 , 32.94, 33.28, 33.62, 33.96,\n",
       "        34.3 , 34.64, 34.98, 35.32, 35.66, 36.  ]),\n",
       " <a list of 50 Patch objects>)"
      ]
     },
     "execution_count": 192,
     "metadata": {},
     "output_type": "execute_result"
    },
    {
     "data": {
      "image/png": "[encoded data removed]",
      "text/plain": [
       "<Figure size 432x288 with 1 Axes>"
      ]
     },
     "metadata": {
      "needs_background": "light"
     },
     "output_type": "display_data"
    }
   ],
   "source": [
    "# your code here\n",
    "\n",
    "ages2 =pd.read_csv(r\"C:\\Users\\Migue\\Documents\\GitHub\\lab-understanding-descriptive-stats\\data\\ages_population2.csv\")\n",
    "\n",
    "plt.hist(ages2[\"observation\"], bins= 50)"
   ]
  },
  {
   "cell_type": "markdown",
   "metadata": {},
   "source": [
    "####  4.- What do you see? Is there any difference with the frequency distribution in step 1?"
   ]
  },
  {
   "cell_type": "code",
   "execution_count": null,
   "metadata": {},
   "outputs": [],
   "source": [
    "\"\"\"\n",
    "your comments here: yes it has a lower mean and less observations and the observations are less continous (in terms of ages)\n",
    "\"\"\""
   ]
  },
  {
   "cell_type": "markdown",
   "metadata": {},
   "source": [
    "#### 5.- Calculate the mean and standard deviation. Compare the results with the mean and standard deviation in step 2. What do you think?"
   ]
  },
  {
   "cell_type": "code",
   "execution_count": 193,
   "metadata": {},
   "outputs": [
    {
     "name": "stdout",
     "output_type": "stream",
     "text": [
      "2.969813932689186 27.155\n"
     ]
    }
   ],
   "source": [
    "# your code here\n",
    "print(ages2[\"observation\"].std() , ages2[\"observation\"].mean())"
   ]
  },
  {
   "cell_type": "code",
   "execution_count": null,
   "metadata": {},
   "outputs": [],
   "source": [
    "\"\"\"\n",
    "your comments here\n",
    "\"\"\""
   ]
  },
  {
   "cell_type": "markdown",
   "metadata": {},
   "source": [
    "## Challenge 5\n",
    "Now is the turn of `ages_population3.csv`.\n",
    "\n",
    "#### 1.- Read the file `ages_population3.csv`. Calculate the frequency distribution and plot it."
   ]
  },
  {
   "cell_type": "code",
   "execution_count": 195,
   "metadata": {},
   "outputs": [
    {
     "data": {
      "text/plain": [
       "(array([ 1.,  2.,  0.,  0.,  0.,  2.,  0.,  1.,  0.,  0.,  0.,  1.,  0.,\n",
       "         1.,  0.,  1.,  0.,  2.,  0.,  2.,  0.,  4.,  0.,  2.,  0.,  5.,\n",
       "         0.,  8.,  0.,  9.,  0., 10.,  0.,  9.,  0., 12.,  0., 11.,  0.,\n",
       "        14.,  0., 11.,  0., 11.,  0., 19.,  0., 17.,  0., 15.,  0., 19.,\n",
       "         0., 18.,  0., 25.,  0., 24.,  0., 21.,  0., 37.,  0., 17.,  0.,\n",
       "        20.,  0., 31.,  0., 26.,  0., 31.,  0., 25.,  0., 29., 21.,  0.,\n",
       "        25.,  0., 14.,  0., 22.,  0., 17.,  0., 24.,  0., 22.,  0., 15.,\n",
       "         0., 25.,  0., 18.,  0., 21.,  0., 14.,  0., 17.,  0., 14.,  0.,\n",
       "         9.,  0., 13.,  0., 10.,  0.,  8.,  0.,  6.,  0.,  8.,  0.,  6.,\n",
       "         0.,  6.,  0.,  3.,  0., 12.,  0., 12.,  0., 15.,  0., 19.,  0.,\n",
       "        22.,  0., 17.,  0., 17.,  0., 19.,  0., 11.,  0.,  8.,  0.,  6.,\n",
       "         0.,  6.,  0.,  2.,  0.,  1.,  2.]),\n",
       " array([ 1.        ,  1.50666667,  2.01333333,  2.52      ,  3.02666667,\n",
       "         3.53333333,  4.04      ,  4.54666667,  5.05333333,  5.56      ,\n",
       "         6.06666667,  6.57333333,  7.08      ,  7.58666667,  8.09333333,\n",
       "         8.6       ,  9.10666667,  9.61333333, 10.12      , 10.62666667,\n",
       "        11.13333333, 11.64      , 12.14666667, 12.65333333, 13.16      ,\n",
       "        13.66666667, 14.17333333, 14.68      , 15.18666667, 15.69333333,\n",
       "        16.2       , 16.70666667, 17.21333333, 17.72      , 18.22666667,\n",
       "        18.73333333, 19.24      , 19.74666667, 20.25333333, 20.76      ,\n",
       "        21.26666667, 21.77333333, 22.28      , 22.78666667, 23.29333333,\n",
       "        23.8       , 24.30666667, 24.81333333, 25.32      , 25.82666667,\n",
       "        26.33333333, 26.84      , 27.34666667, 27.85333333, 28.36      ,\n",
       "        28.86666667, 29.37333333, 29.88      , 30.38666667, 30.89333333,\n",
       "        31.4       , 31.90666667, 32.41333333, 32.92      , 33.42666667,\n",
       "        33.93333333, 34.44      , 34.94666667, 35.45333333, 35.96      ,\n",
       "        36.46666667, 36.97333333, 37.48      , 37.98666667, 38.49333333,\n",
       "        39.        , 39.50666667, 40.01333333, 40.52      , 41.02666667,\n",
       "        41.53333333, 42.04      , 42.54666667, 43.05333333, 43.56      ,\n",
       "        44.06666667, 44.57333333, 45.08      , 45.58666667, 46.09333333,\n",
       "        46.6       , 47.10666667, 47.61333333, 48.12      , 48.62666667,\n",
       "        49.13333333, 49.64      , 50.14666667, 50.65333333, 51.16      ,\n",
       "        51.66666667, 52.17333333, 52.68      , 53.18666667, 53.69333333,\n",
       "        54.2       , 54.70666667, 55.21333333, 55.72      , 56.22666667,\n",
       "        56.73333333, 57.24      , 57.74666667, 58.25333333, 58.76      ,\n",
       "        59.26666667, 59.77333333, 60.28      , 60.78666667, 61.29333333,\n",
       "        61.8       , 62.30666667, 62.81333333, 63.32      , 63.82666667,\n",
       "        64.33333333, 64.84      , 65.34666667, 65.85333333, 66.36      ,\n",
       "        66.86666667, 67.37333333, 67.88      , 68.38666667, 68.89333333,\n",
       "        69.4       , 69.90666667, 70.41333333, 70.92      , 71.42666667,\n",
       "        71.93333333, 72.44      , 72.94666667, 73.45333333, 73.96      ,\n",
       "        74.46666667, 74.97333333, 75.48      , 75.98666667, 76.49333333,\n",
       "        77.        ]),\n",
       " <a list of 150 Patch objects>)"
      ]
     },
     "execution_count": 195,
     "metadata": {},
     "output_type": "execute_result"
    },
    {
     "data": {
      "image/png": "[encoded data removed]",
      "text/plain": [
       "<Figure size 432x288 with 1 Axes>"
      ]
     },
     "metadata": {
      "needs_background": "light"
     },
     "output_type": "display_data"
    }
   ],
   "source": [
    "# your code here\n",
    "ages2 =pd.read_csv(r\"C:\\Users\\Migue\\Documents\\GitHub\\lab-understanding-descriptive-stats\\data\\ages_population3.csv\")\n",
    "\n",
    "plt.hist(ages2[\"observation\"], bins= 150)"
   ]
  },
  {
   "cell_type": "markdown",
   "metadata": {},
   "source": [
    "#### 2.- Calculate the mean and standard deviation. Compare the results with the plot in step 1. What is happening?"
   ]
  },
  {
   "cell_type": "code",
   "execution_count": 196,
   "metadata": {},
   "outputs": [
    {
     "name": "stdout",
     "output_type": "stream",
     "text": [
      "16.144705959865934 41.989\n"
     ]
    }
   ],
   "source": [
    "# your code here\n",
    "print(ages2[\"observation\"].std() , ages2[\"observation\"].mean())"
   ]
  },
  {
   "cell_type": "code",
   "execution_count": null,
   "metadata": {},
   "outputs": [],
   "source": [
    "\"\"\"\n",
    "your comments here: the spkie near the 65-70 year old are skewing the distribution to the older side.\n",
    "increasing teh mean and the stfd\n",
    "\"\"\""
   ]
  },
  {
   "cell_type": "markdown",
   "metadata": {},
   "source": [
    "#### 3.- Calculate the four quartiles. Use the results to explain your reasoning for question in step 2. How much of a difference is there between the median and the mean?"
   ]
  },
  {
   "cell_type": "code",
   "execution_count": 199,
   "metadata": {},
   "outputs": [
    {
     "data": {
      "text/plain": [
       "0.25    30.0\n",
       "0.50    40.0\n",
       "0.75    53.0\n",
       "Name: observation, dtype: float64"
      ]
     },
     "execution_count": 199,
     "metadata": {},
     "output_type": "execute_result"
    }
   ],
   "source": [
    "# your code here\n",
    "\n",
    "ages2[\"observation\"].quantile([0.25,0.5, 0.75], interpolation='nearest')"
   ]
  },
  {
   "cell_type": "code",
   "execution_count": null,
   "metadata": {},
   "outputs": [],
   "source": [
    "\"\"\"\n",
    "your comments here: seeing that the median is lower that the mean implies that there is some overrepresetation of values on the last quartile\n",
    "\"\"\""
   ]
  },
  {
   "cell_type": "markdown",
   "metadata": {},
   "source": [
    "#### 4.- Calculate other percentiles that might be useful to give more arguments to your reasoning."
   ]
  },
  {
   "cell_type": "code",
   "execution_count": 200,
   "metadata": {},
   "outputs": [
    {
     "data": {
      "text/plain": [
       "0.1    22.0\n",
       "0.2    28.0\n",
       "0.8    57.0\n",
       "0.9    67.0\n",
       "Name: observation, dtype: float64"
      ]
     },
     "execution_count": 200,
     "metadata": {},
     "output_type": "execute_result"
    }
   ],
   "source": [
    "# your code here\n",
    "ages2[\"observation\"].quantile([0.1,0.2,0.8, 0.9], interpolation='nearest')"
   ]
  },
  {
   "cell_type": "code",
   "execution_count": null,
   "metadata": {},
   "outputs": [],
   "source": [
    "\"\"\"\n",
    "your comments here:"
   ]
  },
  {
   "cell_type": "markdown",
   "metadata": {},
   "source": [
    "## Bonus challenge\n",
    "Compare the information about the three neighbourhoods. Prepare a report about the three of them. Remember to find out which are their similarities and their differences backing your arguments in basic statistics."
   ]
  },
  {
   "cell_type": "code",
   "execution_count": null,
   "metadata": {},
   "outputs": [],
   "source": [
    "# your code here"
   ]
  },
  {
   "cell_type": "code",
   "execution_count": null,
   "metadata": {},
   "outputs": [],
   "source": [
    "\"\"\"\n",
    "your comments here\n",
    "\"\"\""
   ]
  }
 ],
 "metadata": {
  "kernelspec": {
   "display_name": "Python 3",
   "language": "python",
   "name": "python3"
  },
  "language_info": {
   "codemirror_mode": {
    "name": "ipython",
    "version": 3
   },
   "file_extension": ".py",
   "mimetype": "text/x-python",
   "name": "python",
   "nbconvert_exporter": "python",
   "pygments_lexer": "ipython3",
   "version": "3.7.3"
  }
 },
 "nbformat": 4,
 "nbformat_minor": 2
}
